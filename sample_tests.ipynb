{
 "cells": [
  {
   "cell_type": "markdown",
   "metadata": {},
   "source": [
    "# Sample test\n",
    "This was one of the ways of running a seperate instance of PyDriller to retreive and identify unique author names of the users we wish to analyze. Here we could also get the count of unique commits from this seperate PyDriller instances and compare counts to our dataset with unique commits. \n",
    "\n",
    "For future studies, there should be developed more thorugh scripts for this kind of sample tests. An example for the author name retreiving, is writing it to a file (e.g., JSON) and link it to our usernames. "
   ]
  },
  {
   "cell_type": "code",
   "execution_count": null,
   "metadata": {},
   "outputs": [
    {
     "name": "stdout",
     "output_type": "stream",
     "text": [
      "Num of commits 53\n",
      "\n",
      "Author names:\n",
      "johnsanterre\n",
      "standsleeping\n",
      "Kevin Solorio\n",
      "Andrew Ng\n",
      "Jeff Tang\n"
     ]
    }
   ],
   "source": [
    "from pydriller import Repository\n",
    "import datetime as dt\n",
    "\n",
    "copilot_date = dt.datetime(2023, 9, 1)\n",
    "date_from = dt.datetime(2022, 9, 1)\n",
    "date_to = dt.datetime(2024, 9, 1)\n",
    "\n",
    "repo_name = \"andrewyng/aisuite\"\n",
    "path = f\"https://github.com/{repo_name}\"\n",
    "\n",
    "commit_set = set()\n",
    "authors = set()\n",
    "\n",
    "for commit in Repository(path_to_repo=path, since=date_from, to=date_to, only_no_merge=True).traverse_commits():\n",
    "    commit_set.add(commit.hash)\n",
    "    authors.add(commit.author.name)\n",
    "\n",
    "print(\"Num of commits\", len(commit_set))\n",
    "\n",
    "print(\"\\nAuthor names:\")\n",
    "for author in authors:\n",
    "    print(author)"
   ]
  },
  {
   "cell_type": "code",
   "execution_count": 9,
   "metadata": {},
   "outputs": [
    {
     "name": "stdout",
     "output_type": "stream",
     "text": [
      "Num of commits 2\n"
     ]
    }
   ],
   "source": [
    "commit_set = set()\n",
    "username_mapping = {\"andrewng\" : [\"Andrew Ng\"]}\n",
    "authors = []\n",
    "\n",
    "for username, author_names in username_mapping.items():\n",
    "    authors.append(username)\n",
    "    for author_name in author_names:\n",
    "        authors.append(author_name)\n",
    "\n",
    "for commit in Repository(path_to_repo=path, since=date_from, to=date_to, only_no_merge=True, only_authors=authors).traverse_commits():\n",
    "    commit_set.add(commit.hash)\n",
    "\n",
    "print(\"Num of commits\", len(commit_set))"
   ]
  },
  {
   "cell_type": "code",
   "execution_count": null,
   "metadata": {},
   "outputs": [
    {
     "name": "stdout",
     "output_type": "stream",
     "text": [
      "Same amount of commits (2)!\n"
     ]
    }
   ],
   "source": [
    "import pandas as pd \n",
    "\n",
    "# Load dataset and remove duplicates - this is only for checking amount of commits\n",
    "filepath_default_branch = \"./data/20250530_main_branch_Test_commit_stats.csv\"\n",
    "df = pd.read_csv(filepath_default_branch, parse_dates=[\"Date\"])\n",
    "\n",
    "df = df.drop_duplicates(subset=\"Commit hash\", keep=\"first\")\n",
    "\n",
    "repo_name = \"aisuite\"\n",
    "\n",
    "num_unique_repos = df[\"Repository\"].nunique()\n",
    "num_commits_df = df[df['Repository'] == repo_name].shape[0]\n",
    "\n",
    "if(num_commits_df == len(commit_set)):\n",
    "    print(f\"Same amount of commits ({num_commits_df})!\")\n",
    "else:\n",
    "    print(f\"NOT equal amounts of commits:\\nCommits in DataFrame: {num_commits_df}\\nCommits in PyDriller: {len(commit_set)}\")\n"
   ]
  }
 ],
 "metadata": {
  "kernelspec": {
   "display_name": "base",
   "language": "python",
   "name": "python3"
  },
  "language_info": {
   "codemirror_mode": {
    "name": "ipython",
    "version": 3
   },
   "file_extension": ".py",
   "mimetype": "text/x-python",
   "name": "python",
   "nbconvert_exporter": "python",
   "pygments_lexer": "ipython3",
   "version": "3.12.4"
  }
 },
 "nbformat": 4,
 "nbformat_minor": 2
}
